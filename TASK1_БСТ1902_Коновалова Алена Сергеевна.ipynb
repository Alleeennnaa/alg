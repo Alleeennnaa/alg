{
 "cells": [
  {
   "cell_type": "markdown",
   "id": "neutral-example",
   "metadata": {},
   "source": [
    "# Контрольные задачи №1\n",
    "## Выполнила студентка группы БСТ1902 Коновалова Алена Сергеевна\n",
    "### Задача 1. «Треугольник с максимальным периметром»\n",
    "   #### Массив A состоит из целых положительных чисел - длин отрезков. Составьте из трех отрезков такой треугольник, чтобы его периметр был максимально возможным. Если невозможно составить треугольник с положительной площадью - функция возвращает 0\n",
    "   ### Генерация массива"
   ]
  },
  {
   "cell_type": "code",
   "execution_count": 1,
   "id": "macro-newsletter",
   "metadata": {},
   "outputs": [],
   "source": [
    "import random\n",
    "\n",
    "def generateArr_1(size):\n",
    "    if size<3: size=3\n",
    "    elif size>10000: size=10000\n",
    "    arr=[]\n",
    "    for i in range(size):\n",
    "        arr.append(random.randint(1,10**6))\n",
    "    return arr"
   ]
  },
  {
   "cell_type": "markdown",
   "id": "north-anniversary",
   "metadata": {},
   "source": [
    "### Нахождение периметра и площади "
   ]
  },
  {
   "cell_type": "code",
   "execution_count": 2,
   "id": "contemporary-billion",
   "metadata": {},
   "outputs": [],
   "source": [
    "import math\n",
    "\n",
    "def triangle_P(a,b,c):\n",
    "    P=a+b+c\n",
    "    return P\n",
    "\n",
    "def triangle_S(a,b,c,P):\n",
    "    p=P/2\n",
    "    temp_S=p*(p-a)*(p-b)*(p-c) \n",
    "    if temp_S>0:\n",
    "        S=math.sqrt(temp_S)\n",
    "        return S\n",
    "    else:\n",
    "        return 0"
   ]
  },
  {
   "cell_type": "markdown",
   "id": "honey-farmer",
   "metadata": {},
   "source": [
    "### Функция задания № 1"
   ]
  },
  {
   "cell_type": "code",
   "execution_count": 12,
   "id": "coordinated-scratch",
   "metadata": {},
   "outputs": [],
   "source": [
    "def task_1():\n",
    "   \n",
    "    arr=generateArr_1(4)\n",
    "    arr.sort(reverse=True)\n",
    "    \n",
    "    s=0\n",
    "    i=0\n",
    "    while(s==0 and i<len(arr)-2):\n",
    "        p=triangle_P(arr[i],arr[i+1],arr[i+2])\n",
    "        s=triangle_S(arr[i],arr[i+1],arr[i+2],p)\n",
    "        i+=1\n",
    "        \n",
    "    i-=1\n",
    "\n",
    "    print('Исходный массив: A =',arr)\n",
    "    print(\"Максимальная площадь: \", s)\n",
    "    print('\\nСтороны треугольника:', arr[i], arr[i+1], arr[i+2])\n",
    "    print ('\\nМаксимальный периметр: P =',p)"
   ]
  },
  {
   "cell_type": "code",
   "execution_count": 62,
   "id": "flush-arnold",
   "metadata": {},
   "outputs": [
    {
     "name": "stdout",
     "output_type": "stream",
     "text": [
      "Исходный массив: A = [794972, 786866, 699135, 150776]\n",
      "Максимальная площадь:  247992892329.53183\n",
      "\n",
      "Стороны треугольника: 794972 786866 699135\n",
      "\n",
      "Максимальный периметр: P = 2280973\n"
     ]
    }
   ],
   "source": [
    "task_1()"
   ]
  },
  {
   "cell_type": "markdown",
   "id": "spoken-distribution",
   "metadata": {},
   "source": [
    "## Задача 2. «Максимальное число»\n",
    "### Дан массив неотрицательных целых чисел nums. Расположите их в таком порядке, чтобы вместе они образовали максимально возможное число.\n",
    "#### Генерация массива"
   ]
  },
  {
   "cell_type": "code",
   "execution_count": 15,
   "id": "global-engineering",
   "metadata": {},
   "outputs": [],
   "source": [
    "def generateArr_2(size):\n",
    "    if size<1: size=1\n",
    "    elif size>100: size=100\n",
    "    arr=[]\n",
    "    for i in range(size):\n",
    "        arr.append(random.randint(0,10**9))\n",
    "    return arr"
   ]
  },
  {
   "cell_type": "markdown",
   "id": "absolute-blade",
   "metadata": {},
   "source": [
    "#### Функция возвращает true, после сравнения 1>2"
   ]
  },
  {
   "cell_type": "code",
   "execution_count": 16,
   "id": "dynamic-alabama",
   "metadata": {},
   "outputs": [],
   "source": [
    "def value1_bigger(int_val1, int_val2):\n",
    "    val1=str(int_val1)\n",
    "    val2=str(int_val2)\n",
    "    \n",
    "    \n",
    "    if int(val1+val2)>int(val2+val1):\n",
    "        return True\n",
    "    else:\n",
    "        return False"
   ]
  },
  {
   "cell_type": "markdown",
   "id": "short-group",
   "metadata": {},
   "source": [
    "### Функция задания № 2"
   ]
  },
  {
   "cell_type": "code",
   "execution_count": 36,
   "id": "alleged-sigma",
   "metadata": {},
   "outputs": [],
   "source": [
    "def task_2():\n",
    "    arr=generateArr_2(3)\n",
    "    print('Исходный массив:\\n\\n A =',arr)\n",
    "    \n",
    "    max_val=\"\"\n",
    "\n",
    "    for i in range(len(arr)-1):\n",
    "        max_elem=arr[i]\n",
    "        max_index=i\n",
    "\n",
    "        for j in range(i+1, len(arr)):\n",
    "            if value1_bigger(arr[j],max_elem):\n",
    "                max_elem=arr[j]\n",
    "                max_index=j\n",
    "        \n",
    "        arr[max_index],arr[i]=arr[i],arr[max_index]\n",
    "\n",
    "    for i in range(len(arr)):\n",
    "        max_val+=str(arr[i])\n",
    "\n",
    "    print(\"\\nОтсортированный массив:\\n\\n A =\",arr)\n",
    "    print(\"\\nМаксимально возможное число:\\n\\n\",max_val)"
   ]
  },
  {
   "cell_type": "code",
   "execution_count": 63,
   "id": "minus-israeli",
   "metadata": {},
   "outputs": [
    {
     "name": "stdout",
     "output_type": "stream",
     "text": [
      "Исходный массив:\n",
      "\n",
      " A = [226813332, 486289095, 319486184]\n",
      "\n",
      "Отсортированный массив:\n",
      "\n",
      " A = [486289095, 319486184, 226813332]\n",
      "\n",
      "Максимально возможное число:\n",
      "\n",
      " 486289095319486184226813332\n"
     ]
    }
   ],
   "source": [
    "task_2()"
   ]
  },
  {
   "cell_type": "markdown",
   "id": "combined-raising",
   "metadata": {},
   "source": [
    "## Задача 3. «Сортировка диагоналей в матрице»\n",
    "### Дана матрица mat размером m * n, значения - целочисленные. Напишите функцию, сортирующую каждую диагональ матрицы по возрастанию и возвращающую получившуюся матрицу.\n",
    "#### Генерация матрицы"
   ]
  },
  {
   "cell_type": "code",
   "execution_count": 53,
   "id": "small-suicide",
   "metadata": {},
   "outputs": [],
   "source": [
    "def generateArr_3(size):\n",
    "    if size<1: size=1\n",
    "    elif size>100: size=100\n",
    "    arr = []\n",
    "    for i in range(size):\n",
    "        arr.append(random.randint(1,100))\n",
    "    return arr\n",
    "\n",
    "# Вывод матрицы в столбик\n",
    "def print_mat(mat):\n",
    "    for i in range(len(mat)):\n",
    "        print(mat[i], \"\")"
   ]
  },
  {
   "cell_type": "code",
   "execution_count": 54,
   "id": "prime-classics",
   "metadata": {},
   "outputs": [],
   "source": [
    "# числа из диагонали\n",
    "def take_nums(mat, row, col):\n",
    "    temp = []\n",
    "    while row < len(mat) and col < len(mat[0]):\n",
    "        temp.append(mat[row][col])\n",
    "        row += 1\n",
    "        col += 1\n",
    "    return temp\n",
    "\n",
    "# Вставляет числа в диагональ\n",
    "def insert_nums(mat, row, col, temp):\n",
    "    i = 0\n",
    "    while row < len(mat) and col < len(mat[0]) and i < len(temp):\n",
    "        mat[row][col]=temp[i]\n",
    "        row += 1\n",
    "        col += 1\n",
    "        i += 1"
   ]
  },
  {
   "cell_type": "markdown",
   "id": "european-springfield",
   "metadata": {},
   "source": [
    "### Функция задания № 3"
   ]
  },
  {
   "cell_type": "code",
   "execution_count": 55,
   "id": "liked-finance",
   "metadata": {},
   "outputs": [],
   "source": [
    "   def task_3():\n",
    "    mat = []\n",
    "    m = 4  # строки row\n",
    "    n = 5  # столбцы col\n",
    "    for i in range(m):\n",
    "        mat.append(generateArr_3(n))\n",
    "\n",
    "    print(\"Исходная матрица:\\n\")\n",
    "    print_mat(mat)\n",
    "\n",
    "    # Часть по строчкам\n",
    "    for i in range(m-1):\n",
    "        temp = take_nums(mat, i, 0)\n",
    "        temp.sort()\n",
    "        insert_nums(mat, i, 0, temp)\n",
    "\n",
    "    # Часть по столбцам\n",
    "    for i in range(1,n-1):\n",
    "        temp = take_nums(mat, 0, i)\n",
    "        temp.sort()\n",
    "        insert_nums(mat, 0, i, temp)\n",
    "\n",
    "    print(\"\\n\\nОтсортированная матрица:\\n\")\n",
    "    print_mat(mat)"
   ]
  },
  {
   "cell_type": "code",
   "execution_count": 64,
   "id": "possible-sword",
   "metadata": {},
   "outputs": [
    {
     "name": "stdout",
     "output_type": "stream",
     "text": [
      "Исходная матрица:\n",
      "\n",
      "[84, 16, 29, 54, 88] \n",
      "[42, 60, 77, 5, 20] \n",
      "[57, 49, 66, 96, 13] \n",
      "[22, 72, 28, 6, 63] \n",
      "\n",
      "\n",
      "Отсортированная матрица:\n",
      "\n",
      "[6, 16, 5, 20, 88] \n",
      "[28, 60, 63, 13, 54] \n",
      "[57, 42, 66, 77, 29] \n",
      "[22, 72, 49, 84, 96] \n"
     ]
    }
   ],
   "source": [
    "task_3()"
   ]
  },
  {
   "cell_type": "code",
   "execution_count": null,
   "id": "sapphire-depression",
   "metadata": {},
   "outputs": [],
   "source": []
  }
 ],
 "metadata": {
  "kernelspec": {
   "display_name": "Python 3",
   "language": "python",
   "name": "python3"
  },
  "language_info": {
   "codemirror_mode": {
    "name": "ipython",
    "version": 3
   },
   "file_extension": ".py",
   "mimetype": "text/x-python",
   "name": "python",
   "nbconvert_exporter": "python",
   "pygments_lexer": "ipython3",
   "version": "3.8.5"
  }
 },
 "nbformat": 4,
 "nbformat_minor": 5
}
